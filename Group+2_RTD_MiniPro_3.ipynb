{
 "cells": [
  {
   "cell_type": "markdown",
   "metadata": {},
   "source": [
    "### PART 3 - iPhone Sentiment Analysis\n",
    "Note: For this iphone analysis scenario, we have used .filter() method instead of .sample() in Twitter Stream API (in Stream Listener side) as shown below.\n",
    "\n",
    "<span style=\"color:blue\">l = KafkaListener(tweets_limit=15000) <br>\n",
    "auth = OAuthHandler(consumer_key, consumer_secret) <br>\n",
    "auth.set_access_token(access_token, access_secret) <br>\n",
    "stream = Stream(auth, l)<br>\n",
    "stream**.filter(track=['iphone'])**</span>"
   ]
  },
  {
   "cell_type": "code",
   "execution_count": 1,
   "metadata": {
    "collapsed": true
   },
   "outputs": [],
   "source": [
    "import sys # used to exit\n",
    "import json, re\n",
    "import datetime, time\n",
    "\n",
    "from __future__ import print_function\n",
    "from textblob import TextBlob"
   ]
  },
  {
   "cell_type": "code",
   "execution_count": 2,
   "metadata": {
    "collapsed": true
   },
   "outputs": [],
   "source": [
    "from pyspark import SparkContext\n",
    "from pyspark.streaming import StreamingContext\n",
    "from pyspark.streaming.kafka import KafkaUtils"
   ]
  },
  {
   "cell_type": "code",
   "execution_count": 10,
   "metadata": {
    "collapsed": true
   },
   "outputs": [],
   "source": [
    "sc = SparkContext(appName=\"PythonSparkStreamingKafka\")"
   ]
  },
  {
   "cell_type": "code",
   "execution_count": 11,
   "metadata": {
    "collapsed": true
   },
   "outputs": [],
   "source": [
    "sc.setLogLevel(\"WARN\")\n",
    "ssc = StreamingContext(sc,10)\n",
    "kafkaStream = KafkaUtils.createStream(ssc, 'ip-20-0-32-4.ap-south-1.compute.internal:2181', 'spark-streaming', {'rtd2analysis':1})"
   ]
  },
  {
   "cell_type": "code",
   "execution_count": 12,
   "metadata": {
    "collapsed": true
   },
   "outputs": [],
   "source": [
    "ssc.checkpoint(\"checkpoint\")"
   ]
  },
  {
   "cell_type": "code",
   "execution_count": 13,
   "metadata": {
    "collapsed": true
   },
   "outputs": [],
   "source": [
    "def cleanTweet(tweet):\n",
    "    return ' '.join(re.sub(\"(@[0-9*#+/]+)|([^0-9A-Za-z@:/._ \\t])\", \" \", tweet).split())"
   ]
  },
  {
   "cell_type": "code",
   "execution_count": 14,
   "metadata": {
    "collapsed": true
   },
   "outputs": [],
   "source": [
    "def sentimentAnalysis(tweet):\n",
    "    analysis = TextBlob(tweet)\n",
    "    snt = analysis.sentiment\n",
    "    \n",
    "    if snt.polarity > 0:\n",
    "        return \"positve\"\n",
    "    elif snt.polarity < 0:\n",
    "        return \"negative\"\n",
    "    else:\n",
    "        return \"neutral\"\n",
    "    return analysis.sentiment"
   ]
  },
  {
   "cell_type": "code",
   "execution_count": 15,
   "metadata": {},
   "outputs": [],
   "source": [
    "parsed = kafkaStream.map(lambda v: json.loads(v[1].encode(\"ascii\", \"ignore\")))\n",
    "\n",
    "# Get text part if the tweet \n",
    "texts = parsed.map(lambda tweet: cleanTweet(tweet['text']))\n",
    "sentiments = texts.map(lambda text: (text, sentimentAnalysis(text)))\n",
    "sentiments.pprint()"
   ]
  },
  {
   "cell_type": "code",
   "execution_count": 16,
   "metadata": {},
   "outputs": [
    {
     "name": "stdout",
     "output_type": "stream",
     "text": [
      "-------------------------------------------\n",
      "Time: 2018-08-26 02:39:40\n",
      "-------------------------------------------\n",
      "(u'RT @pikachuJihoon: Hey guys. I do iphone 6s plus giveaway because my mom bought iphone 7 plus for me for my birthday. The iphone is not tha', 'neutral')\n",
      "(u'RT @AgoMarote: ME ROBARON IPHONE 7 PLUS ROSADO EN SANTA FE POR FAVOR DIFUNDIR cualquier informacion puede ser de ayuda GRACIAS', 'neutral')\n",
      "(u'@askmenfess jangan iphone susah buat download2 illegal wkwk', 'negative')\n",
      "(u'iPhone https://t.co/rVTGs8TIDU', 'neutral')\n",
      "(u'iPhone / https://t.co/fgxtFNLTyj', 'neutral')\n",
      "(u'RT @sentimentos_ai: Tirei 9 na prova Ah eu tirei 10 Eu ralei meu bra o todo Eu j quebrei o bra o Eu ganhei um iPhone 5 Eu j', 'neutral')\n",
      "(u'iPhone / https://t.co/HwoG8ERXWT', 'neutral')\n",
      "(u'RT @kyuju32810: what super junior sunbaenims who has been in the music industry for 13 years do behind the scenes expectations: hold i', 'negative')\n",
      "(u'RT @mopage19: Before amp After // iPhone Edit https://t.co/GjYpGQrbKZ', 'neutral')\n",
      "\n",
      "-------------------------------------------\n",
      "Time: 2018-08-26 02:39:50\n",
      "-------------------------------------------\n",
      "(u'Taking pictures with smart phones is becoming a trend today. This is just an accessories to make zoom more and see https://t.co/8HSni4QDtX', 'positve')\n",
      "(u'RT @Xtremelyblssed: iPhone headphones are not loud enough for me anymore .. or maybe I m losing my hearing', 'negative')\n",
      "(u'RT @NEELRXH: new iPhone about to come out so my phone already acting like a bastard https://t.co/Cqn8iB84YM', 'positve')\n",
      "(u'RT @mochiminyeondan: GIVEAWAY It was my birthday yesterday so I got a new iphone X so now I decided to do a giveaway with my old phon', 'positve')\n",
      "(u'RT @pikachuJihoon: Hey guys. I do iphone 6s plus giveaway because my mom bought iphone 7 plus for me for my birthday. The iphone is not tha', 'neutral')\n",
      "(u'@Boling_For_Soup I love Vegas Golden Knights and change their phone case to them. https://t.co/OJ2S4vCe1Q https://t.co/KPq5Z78SyS', 'positve')\n",
      "(u'@fntforever didnt you have iphone x', 'neutral')\n",
      "\n",
      "-------------------------------------------\n",
      "Time: 2018-08-26 02:40:00\n",
      "-------------------------------------------\n",
      "(u'RT @GiveawayXtreme: Red Product IPhone 8 Giveaway RT Follow Us Turn Our Post Notifications ON show proof Ends in 48hrs', 'neutral')\n",
      "(u'RT @tydollasign: Bruh I hate iPhone for adding the dongle . Most inconvenient shit ever when u can t find one', 'negative')\n",
      "(u'RT @emzhaek: Hyukjae amp Donghae did their USB amp iphone msg imitations together Hyukjae: I m embarrassed YHY: This is why being in a team is', 'neutral')\n",
      "(u'Solo escort model toying ass with dildo https://t.co/CuLokfwKOe Naked pussy pics of lori babestation partoyza bi https://t.co/GG1XCZLKVa', 'neutral')\n",
      "(u'RT @eunhaes_: hae s personal talent: iphone s incoming message sound https://t.co/YU8wDP2vhN', 'positve')\n",
      "(u'Check out Magpul Field Case iPhone 4 Blue MAG451 DBL NOS Magpul https://t.co/cyw54JrQwZ via @eBay', 'neutral')\n",
      "(u'My beautiful iPhone X psycho', 'positve')\n",
      "(u'I gotta iPhone but NOOOOOOBODY ever ft me like ... wtf is the point', 'negative')\n",
      "\n",
      "-------------------------------------------\n",
      "Time: 2018-08-26 02:40:10\n",
      "-------------------------------------------\n",
      "(u'Very beautiful architecture. newyork niagarafalls NYC NY apple travel amazing iphone https://t.co/pVVGbvLyp7', 'positve')\n",
      "(u'RT @desiringGod: If we wonder at new Netflix shows and get amazed by the latest iPhone but yawn when we open God s word in the morning we', 'positve')\n",
      "(u'i just got out of the shower and i was playing music on my phone and when i walked into my room i hear LOUD AND CLEAR AN IPHONE RINGING', 'positve')\n",
      "(u'Fellatio session with hot hunk https://t.co/NlACUuomAE wwwteenfuck com amy duncan having hardcore sex petite red https://t.co/O6fgvBxT4l', 'positve')\n",
      "\n",
      "-------------------------------------------\n",
      "Time: 2018-08-26 02:40:20\n",
      "-------------------------------------------\n",
      "(u'RT @TrumpOrNotBot: This tweet was sent via Twitter for iPhone. I compute a 11 chance it was written by Trump himself. https://t.co/w9ODmVk', 'neutral')\n",
      "(u'would just like to publicly announce that after four weeks I have finally beaten @CarsonL15 at iPhone pool. I would https://t.co/QGyQbmUKHr', 'neutral')\n",
      "(u'@PamelaMcKenzie I love Vegas Golden Knights and change their phone case to them. https://t.co/OJ2S4vCe1Q https://t.co/45VBW4Is7W', 'positve')\n",
      "(u'Jbmmj mj9013 3.5mm in Ear Headset for Ipod Iphone Samsung Htc Etc Black https://t.co/uSEqe0NJKZ singapore only', 'negative')\n",
      "(u'RT @johnhall: My 5 year old recently asked me when she can get an iPhone. Some of her friends have them already. I m all for introducing te', 'positve')\n",
      "\n",
      "-------------------------------------------\n",
      "Time: 2018-08-26 02:40:30\n",
      "-------------------------------------------\n",
      "(u'RT @stevekrohn: US customs faces lawsuit over copied iPhone data https://t.co/36rfDYtHxt https://t.co/MLFJVS7dCk', 'neutral')\n",
      "(u'Y all can t tell me his hairline doesn t look like the top of an iPhone X', 'positve')\n",
      "(u'How to Unlock iPhone 7 Plus For Koodo Mobile Canada. https://t.co/OtvNuOQdbT https://t.co/qigb8tDepH', 'neutral')\n",
      "\n",
      "-------------------------------------------\n",
      "Time: 2018-08-26 02:40:40\n",
      "-------------------------------------------\n",
      "(u'Found Iphone S retweet to help her find her phone Kinda scared of the cops pulling up Lmaoo lostandfound https://t.co/WAy7fUaGVK', 'neutral')\n",
      "(u'RT @pikachuJihoon: Hey guys. I do iphone 6s plus giveaway because my mom bought iphone 7 plus for me for my birthday. The iphone is not tha', 'neutral')\n",
      "(u'RT @DoujinsApp: All hentai and anime in one free app for Android iPhone iPad https://t.co/oPBhzJHiEA https://t.co/5MR4Ext1WS', 'positve')\n",
      "(u'RT @giveawaykeyy: 3x 256GB IPHONE X GIVEAWAY RT Follow Us amp @spadecapital Turn Post notifications ON show proof for both', 'neutral')\n",
      "(u'RT @ta3825: @LindseyPelas No your probably correct I just wish I wasn t so stupid that I gave this fake Lindsey 700.00 but when she wa', 'negative')\n",
      "(u'RT @giveawaykeyy: 3x 256GB IPHONE X GIVEAWAY RT Follow Us amp @spadecapital Turn Post notifications ON show proof for both', 'neutral')\n",
      "(u'RT @goldenrubss: Someone I know that earns 135k a year still loves her iPhone 5s and doesn t want to upgrade but Damilola from Ijebu Ode', 'neutral')\n",
      "(u'The moon was much fuller and more orange in person. Sucky iPhone camera :P https://t.co/nZug7liBQV', 'positve')\n",
      "(u'RT @GiveawayXtreme: Red Product IPhone 8 Giveaway RT Follow Us Turn Our Post Notifications ON show proof Ends in 48hrs', 'neutral')\n",
      "\n",
      "-------------------------------------------\n",
      "Time: 2018-08-26 02:40:50\n",
      "-------------------------------------------\n",
      "(u'RT @pikachuJihoon: Hey guys. I do iphone 6s plus giveaway because my mom bought iphone 7 plus for me for my birthday. The iphone is not tha', 'neutral')\n",
      "(u'@Valiant_Doc I love Vegas Golden Knights and change their phone case to them. https://t.co/OJ2S4vCe1Q https://t.co/SRCVOBtxSg', 'positve')\n",
      "\n",
      "-------------------------------------------\n",
      "Time: 2018-08-26 02:41:00\n",
      "-------------------------------------------\n",
      "(u'Don t jump in a pool with a iPhone X cause she s fucked', 'negative')\n",
      "(u'Check out Munchlax Pokemon Cable Bite iPhone decorate and protect cable very rare JAPAN nintendo https://t.co/9ZHVJ0oCVC via @eBay', 'positve')\n",
      "(u'RT @ChildstarAwra: iPHONE X GIVEAWAY WANT TO WIN 1. Follow @Dj_E5QUIRE notifs on 2. Follow me must have notifications on . 3. Retwee', 'positve')\n",
      "(u'ENTER 2 WIN iPhone 8 Apple Watch 700 w/@Dana_Stargazer @Lei_Boucher @twirling_tara @CamiOfficialig https://t.co/KDIvVtGO4g', 'positve')\n",
      "(u'Thanks John for helping keep the idiot in chief in check. When his half baked nationalist propaganda dies your se https://t.co/cVT3F88epg', 'negative')\n",
      "\n",
      "-------------------------------------------\n",
      "Time: 2018-08-26 02:41:10\n",
      "-------------------------------------------\n",
      "(u'RT @teddyswajjur: I wish iPhone let us unsend messages', 'neutral')\n",
      "(u'RT @giveawaykeyy: Another iPhone X Giveaway Follow us Retweet this post Turn Post Notifications on FAST GIVEAWAY ENDS: Sep', 'positve')\n",
      "(u'accurately', 'positve')\n",
      "(u'@ChanceNHL I love Vegas Golden Knights and change their phone case to them. https://t.co/OJ2S4vCe1Q https://t.co/OKxzViR7er', 'positve')\n",
      "(u'RT @giveawaykeyy: 3x 256GB IPHONE X GIVEAWAY RT Follow Us amp @spadecapital Turn Post notifications ON show proof for both', 'neutral')\n",
      "(u'RT @deviousrepublic: .. New to our store: Super sleek iPhone cases. They re on sale Get em while they re . https://t.co/PBokNv2cO8 htt', 'positve')\n",
      "(u'RT @pikachuJihoon: Hey guys. I do iphone 6s plus giveaway because my mom bought iphone 7 plus for me for my birthday. The iphone is not tha', 'neutral')\n",
      "(u'RT @GiveawayPluss: 4x iPhone X Giveaway 256GB Follow us RT Turn Post Notifications On 4 WINNERS JOIN NOW PICKING WINNERS F', 'neutral')\n",
      "(u'RT @CadeFoehner: Come on https://t.co/nqqzBIIDtA', 'neutral')\n",
      "\n"
     ]
    },
    {
     "name": "stdout",
     "output_type": "stream",
     "text": [
      "-------------------------------------------\n",
      "Time: 2018-08-26 02:41:20\n",
      "-------------------------------------------\n",
      "(u'My best shot at the Moon with this iPhone. yesFilter @ Lake Michigan Chicago Lakefront https://t.co/TiOxHMCSu5', 'positve')\n",
      "(u'RT @teddyswajjur: I wish iPhone let us unsend messages', 'neutral')\n",
      "(u'I liked a @YouTube video https://t.co/Fogzi5hKrp D3STROYING CARMEN iPHONE PRANK SHE SNAPPED IN SPANISH', 'positve')\n",
      "(u'RT @pikachuJihoon: Hey guys. I do iphone 6s plus giveaway because my mom bought iphone 7 plus for me for my birthday. The iphone is not tha', 'neutral')\n",
      "(u'OMG Check out @kfghsusbeh s video musical.ly gt https://t.co/8LTfRrhfeh', 'neutral')\n",
      "(u'@CheriseMoniqueF Yeah exactly. I mean I switched from android to iPhone and loved it so it will probably be the sam https://t.co/7WlScZw1Bc', 'positve')\n",
      "(u'RT dogspetcare: When you put your phone down and the puppies take over apple @CatalystCase waterproof smarties iphone catalystc', 'negative')\n",
      "(u'FREE iPhone X GIVEAWAY Enter now by following this link https://t.co/Hzg7iMseOK', 'positve')\n",
      "\n",
      "-------------------------------------------\n",
      "Time: 2018-08-26 02:41:30\n",
      "-------------------------------------------\n",
      "(u'RT @pikachuJihoon: Hey guys. I do iphone 6s plus giveaway because my mom bought iphone 7 plus for me for my birthday. The iphone is not tha', 'neutral')\n",
      "(u'RT @pikachuJihoon: Hey guys. I do iphone 6s plus giveaway because my mom bought iphone 7 plus for me for my birthday. The iphone is not tha', 'neutral')\n",
      "(u'Mood.', 'neutral')\n",
      "(u'RT @Wilkosdidgit: @DarrylMagher @Microsoft @Nokiamobile @tescomobile I have a Microsoft Lumia950 Windowsphone amp I love it much more than', 'positve')\n",
      "\n",
      "-------------------------------------------\n",
      "Time: 2018-08-26 02:41:40\n",
      "-------------------------------------------\n",
      "(u'@challdreams I love Vegas Golden Knights and change their phone case to them. https://t.co/OJ2S4vCe1Q https://t.co/oZAhrVafnD', 'positve')\n",
      "(u'RT @giveawaykeyy: 3x 256GB IPHONE X GIVEAWAY RT Follow Us amp @spadecapital Turn Post notifications ON show proof for both', 'neutral')\n",
      "(u'Rumor is there could be 3 new iPhones announced in September https://t.co/PhZjxrtFEe', 'positve')\n",
      "(u'RT @ShopEssenity: Ever want to charge your iPhone while using headphones at the same time We ve got you covered Get Yours Here htt', 'neutral')\n",
      "(u'RT @Kimmel_JK: @TonyaRMoore1 @DrJimmyStar @pajberry @smoknbeaver @AJValliant2025 @ArgoMemphis @oceancitydream1 @KruegerFAngel @MojoMoomey @', 'neutral')\n",
      "(u'RT @giveawaykeyy: 3x 256GB IPHONE X GIVEAWAY RT Follow Us amp @spadecapital Turn Post notifications ON show proof for both', 'neutral')\n",
      "\n",
      "-------------------------------------------\n",
      "Time: 2018-08-26 02:41:50\n",
      "-------------------------------------------\n",
      "(u'RT @howtobealame: Met this lil chick at hi tone 2030 had it jumpN like sky zone I put my ig in her iPhone Gift had it jumpN like sky', 'neutral')\n",
      "(u'RT @sdmills07: CordsofSteel the only charger you will need to charge both iPhone and Android phones No more fumbling to find a cord to ch', 'negative')\n",
      "(u'RT @RyanPernofski: have you checked out my most recent short film : I spent all year filming for it all on my iPhone have a watch he', 'positve')\n",
      "\n",
      "-------------------------------------------\n",
      "Time: 2018-08-26 02:42:00\n",
      "-------------------------------------------\n",
      "(u'RT @xCreepeREA: @FortniteGame I pixelated the Rook skin on my iPhone It s my favorite skin in the game. fortnite pixelart BattleRoyale', 'positve')\n",
      "(u'@kenz189 The iPhone X is 1000', 'neutral')\n",
      "(u'@AffirmationDAWN @GoldenKnights I love Vegas Golden Knights and change their phone case to them. https://t.co/KhH0xChC6v', 'positve')\n",
      "(u'A THREAD: Tonight at a concert our friend accidentally dropped her iphone in the blue water at the bottom of a po https://t.co/hVWoeHAloq', 'neutral')\n",
      "(u'RT @pikachuJihoon: Hey guys. I do iphone 6s plus giveaway because my mom bought iphone 7 plus for me for my birthday. The iphone is not tha', 'neutral')\n",
      "\n",
      "-------------------------------------------\n",
      "Time: 2018-08-26 02:42:10\n",
      "-------------------------------------------\n",
      "(u'@Shaithis1404 @ElJefeStewart @FoxNews Iphone text to speak fool', 'neutral')\n",
      "(u'eBay: Apple iPhone X 64GB Space Grey EE A1901 GSM https://t.co/yZ5SMkehCC https://t.co/iyBZn6zuIm', 'negative')\n",
      "(u'eBay: MINT Apple iPhone X 256GB AT amp T Clean ESN Space Gray Smartphone https://t.co/LlCE5bd9b8 https://t.co/VW6vhQQSaw', 'positve')\n",
      "\n",
      "-------------------------------------------\n",
      "Time: 2018-08-26 02:42:20\n",
      "-------------------------------------------\n",
      "(u'@CompleteHkyNews I love Vegas Golden Knights and change their phone case to them. https://t.co/OJ2S4vCe1Q https://t.co/LtWFsdFhTB', 'positve')\n",
      "(u'Just saw this on eBay gt gt 9175 cellphones smartphones Apple iPhone 6S 64GB Verizon amp GSM Unlocked ... https://t.co/iARTi3uUbH', 'neutral')\n",
      "(u'TOP 102 Worst Flight Simulators MEGAMIX has been published on My Iphone 8 https://t.co/oDL1Uimmui https://t.co/n6yO9sCeeG', 'negative')\n",
      "(u'RT @NomsaNdaba: Hey guys please help me win an iPhone from @giveawaykeyy THIS would make me so happy so PLEASE CAN Y ALL HELP ME REAC', 'positve')\n",
      "(u'RT @ICallllshot: Book me and my iPhone https://t.co/gtOt0exvWL', 'neutral')\n",
      "\n",
      "-------------------------------------------\n",
      "Time: 2018-08-26 02:42:30\n",
      "-------------------------------------------\n",
      "(u'RT @pikachuJihoon: Hey guys. I do iphone 6s plus giveaway because my mom bought iphone 7 plus for me for my birthday. The iphone is not tha', 'neutral')\n",
      "(u'https://t.co/Bj9ptC7oDJ girl erito naughty america small clip bollywood nudes hd upskirt brazzers fantasy 4k brune https://t.co/XIj2WEwIdd', 'negative')\n",
      "(u'just got the iphone 8 in red someone take my card', 'neutral')\n",
      "(u'The latest Your I.T. Guy Daily Paper https://t.co/XXXwiHkrqP Thanks to @SaviorLabs @RatifyArticle1 @TechKimmi apple iphone', 'positve')\n",
      "(u'I can t risk taking off my IPhone case for more than 10min.. knowing my dumbass I ll crack that hoe in 5', 'positve')\n",
      "\n",
      "-------------------------------------------\n",
      "Time: 2018-08-26 02:42:40\n",
      "-------------------------------------------\n",
      "(u'@sophiamercado_ I mean... Wait til September. New Iphone', 'negative')\n",
      "(u'https://t.co/pfKEIfeAe9 nubile films movies outdoor hookups cam porno glamour facial hot east wicked blowjob iphon https://t.co/b8smMhxoXQ', 'positve')\n",
      "\n",
      "-------------------------------------------\n",
      "Time: 2018-08-26 02:42:50\n",
      "-------------------------------------------\n",
      "\n",
      "-------------------------------------------\n",
      "Time: 2018-08-26 02:43:00\n",
      "-------------------------------------------\n",
      "\n"
     ]
    }
   ],
   "source": [
    "try:\n",
    "    ssc.start()\n",
    "    ssc.awaitTerminationOrTimeout(1000)\n",
    "    ssc.stop(stopGraceFully=True,stopSparkContext=True)\n",
    "    \n",
    "except KeyboardInterrupt:\n",
    "    ssc.stop(stopGraceFully=True,stopSparkContext=True)\n"
   ]
  },
  {
   "cell_type": "code",
   "execution_count": null,
   "metadata": {
    "collapsed": true
   },
   "outputs": [],
   "source": []
  }
 ],
 "metadata": {
  "kernelspec": {
   "display_name": "PySpark",
   "language": "python",
   "name": "pyspark"
  },
  "language_info": {
   "codemirror_mode": {
    "name": "ipython",
    "version": 2
   },
   "file_extension": ".py",
   "mimetype": "text/x-python",
   "name": "python",
   "nbconvert_exporter": "python",
   "pygments_lexer": "ipython2",
   "version": "2.7.14"
  }
 },
 "nbformat": 4,
 "nbformat_minor": 2
}
