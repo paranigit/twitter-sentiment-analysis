{
 "cells": [
  {
   "cell_type": "markdown",
   "metadata": {},
   "source": [
    "### Mini Project | Real Time Data Analytics | Sentiment Analysis on Twitter in Real Time\n",
    "#### Group Members\n",
    "* P Kumaralingam\n",
    "* Geetha Viswanathan\n",
    "* Madhavan\n",
    "* Paraneetharan M"
   ]
  },
  {
   "cell_type": "markdown",
   "metadata": {},
   "source": [
    "This mini project is to perform a Sentiment Analysis on Twitter data using Spark Streaming in Real Time. There are 3 parts in this project which contains code to receive twitter data and perform several analysis in real time. In this project we have used Kafka as Messaging Agent (similar to socket). Here Spark Streaming is consuming the twitter data in every 10 secs."
   ]
  },
  {
   "cell_type": "markdown",
   "metadata": {},
   "source": [
    "## PART 1 - Create a Streaming Listener (using Kafka) and Push Twitter Data into it"
   ]
  },
  {
   "cell_type": "code",
   "execution_count": 14,
   "metadata": {
    "collapsed": true
   },
   "outputs": [],
   "source": [
    "# Twitter libraries\n",
    "from tweepy import OAuthHandler\n",
    "from tweepy import Stream\n",
    "from tweepy.streaming import StreamListener\n",
    "\n",
    "# Kafka libraries\n",
    "from kafka import KafkaProducer\n",
    "from kafka import KafkaClient\n",
    "\n",
    "# Other libraries\n",
    "import sys, time, json "
   ]
  },
  {
   "cell_type": "code",
   "execution_count": 15,
   "metadata": {
    "collapsed": true
   },
   "outputs": [],
   "source": [
    "# Twitter Consumer & Access Keys\n",
    "consumer_key = 'hLLsDTJ6Wl6IbUZIC2hkLq9Gv'\n",
    "consumer_secret = '5wDW5Jy28ZHfM4fS3zndwA3Il6kc3vnW9O5XGTC6e0rocLn0Ty'\n",
    "access_token = '173511847-S0jjSl51SJsiv55UIdPnPtVHdxRotzNWAXtVDg3z'\n",
    "access_secret = 'idBhq9YBx0reNYv8KM2csEqegzm53tiGXLGIKr0ZPAeRg'"
   ]
  },
  {
   "cell_type": "code",
   "execution_count": 16,
   "metadata": {},
   "outputs": [],
   "source": [
    "# Set Consumer & Access Keys\n",
    "auth = OAuthHandler(consumer_key, consumer_secret)\n",
    "auth.set_access_token(access_token, access_secret)"
   ]
  },
  {
   "cell_type": "code",
   "execution_count": 17,
   "metadata": {
    "collapsed": true
   },
   "outputs": [],
   "source": [
    "# Create KafkaClient\n",
    "client = KafkaClient(hosts=\"ip-20-0-32-4.ap-south-1.compute.internal:9092\")"
   ]
  },
  {
   "cell_type": "code",
   "execution_count": 18,
   "metadata": {
    "collapsed": true
   },
   "outputs": [],
   "source": [
    "# Create Kafka Topic if not already exist\n",
    "topic = 'rtd2analysis'\n",
    "client.ensure_topic_exists(topic)"
   ]
  },
  {
   "cell_type": "markdown",
   "metadata": {},
   "source": [
    "#### Setup Kafka Producer to push the tweets into the topic\n",
    "Note: Here we use the broker server from Cloud Lab."
   ]
  },
  {
   "cell_type": "code",
   "execution_count": 19,
   "metadata": {
    "collapsed": true
   },
   "outputs": [],
   "source": [
    "producer = KafkaProducer(bootstrap_servers=['ip-20-0-32-4.ap-south-1.compute.internal:9092'],\n",
    "                         key_serializer=lambda m: m.encode('utf8'),\n",
    "                         value_serializer=lambda m: json.dumps(m).encode('utf8'))"
   ]
  },
  {
   "cell_type": "markdown",
   "metadata": {},
   "source": [
    "Variable tweets_limit is used to control the number of tweets streamed from Twitter API. It helps to prevent the Kafka Producer to run for longer duration by stop the same automatically after the limit is reached."
   ]
  },
  {
   "cell_type": "code",
   "execution_count": 20,
   "metadata": {
    "collapsed": true
   },
   "outputs": [],
   "source": [
    "# Streaming Listener to push tweets using Kafka Producer created in above step\n",
    "class KafkaListener(StreamListener):\n",
    "    def __init__(self, tweets_limit):\n",
    "        self.counter = 0\n",
    "        self.tweets_limit = tweets_limit\n",
    "        \n",
    "    def on_data(self, data):\n",
    "        tweet = json.loads(data)\n",
    "        \n",
    "        # Filter and send only tweet data (skip delete data)\n",
    "        if \"created_at\" in tweet:\n",
    "            self.counter += 1\n",
    "            producer.send(topic,key=tweet[\"created_at\"],value=tweet)\n",
    "            if (self.counter % 1000 == 0):\n",
    "                print (\"Limit reacehd to \",self.counter)\n",
    "            \n",
    "        if self.counter == self.tweets_limit:\n",
    "            print (\"Max Tweet Limit Reached..!\")\n",
    "            return False\n",
    "\n",
    "    def on_error(self, status):\n",
    "        print(status)\n",
    "        print(\"Rate limited..\")\n",
    "        return False"
   ]
  },
  {
   "cell_type": "code",
   "execution_count": 22,
   "metadata": {},
   "outputs": [
    {
     "name": "stdout",
     "output_type": "stream",
     "text": [
      "('Limit reacehd to ', 1000)\n",
      "('Limit reacehd to ', 2000)\n",
      "('Limit reacehd to ', 3000)\n",
      "('Limit reacehd to ', 4000)\n",
      "('Limit reacehd to ', 5000)\n",
      "('Limit reacehd to ', 6000)\n",
      "('Limit reacehd to ', 7000)\n",
      "('Limit reacehd to ', 8000)\n",
      "('Limit reacehd to ', 9000)\n",
      "('Limit reacehd to ', 10000)\n",
      "('Limit reacehd to ', 11000)\n",
      "('Limit reacehd to ', 12000)\n",
      "('Limit reacehd to ', 13000)\n",
      "('Limit reacehd to ', 14000)\n",
      "('Limit reacehd to ', 15000)\n",
      "('Limit reacehd to ', 16000)\n",
      "('Limit reacehd to ', 17000)\n",
      "('Limit reacehd to ', 18000)\n",
      "('Limit reacehd to ', 19000)\n",
      "('Limit reacehd to ', 20000)\n",
      "Max Tweet Limit Reached..!\n"
     ]
    }
   ],
   "source": [
    "#This handles Twitter authetification and the connection to Twitter Streaming API\n",
    "if __name__ == '__main__':\n",
    "    \n",
    "    try:\n",
    "        l = KafkaListener(tweets_limit=20000)\n",
    "        auth = OAuthHandler(consumer_key, consumer_secret)\n",
    "        auth.set_access_token(access_token, access_secret)\n",
    "        stream = Stream(auth, l)\n",
    "        # Sample delivers a stream of 1% (random selection) of all tweets\n",
    "        stream.sample()\n",
    "        \n",
    "        #Set Keywords to filter Twitter Streams. It will be used for iphone Sentiment Analysis\n",
    "        #stream.filter(languages=['en'],track=['iphone'])  \n",
    "\n",
    "    except KeyboardInterrupt:\n",
    "        sys.exit(0)"
   ]
  },
  {
   "cell_type": "code",
   "execution_count": null,
   "metadata": {
    "collapsed": true
   },
   "outputs": [],
   "source": []
  }
 ],
 "metadata": {
  "kernelspec": {
   "display_name": "PySpark",
   "language": "python",
   "name": "pyspark"
  },
  "language_info": {
   "codemirror_mode": {
    "name": "ipython",
    "version": 2
   },
   "file_extension": ".py",
   "mimetype": "text/x-python",
   "name": "python",
   "nbconvert_exporter": "python",
   "pygments_lexer": "ipython2",
   "version": "2.7.14"
  }
 },
 "nbformat": 4,
 "nbformat_minor": 2
}
